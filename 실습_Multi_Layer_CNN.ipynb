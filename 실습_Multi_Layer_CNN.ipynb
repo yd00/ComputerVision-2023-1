{
  "nbformat": 4,
  "nbformat_minor": 0,
  "metadata": {
    "kernelspec": {
      "name": "python3",
      "display_name": "Python 3"
    },
    "language_info": {
      "codemirror_mode": {
        "name": "ipython",
        "version": 3
      },
      "file_extension": ".py",
      "mimetype": "text/x-python",
      "name": "python",
      "nbconvert_exporter": "python",
      "pygments_lexer": "ipython3",
      "version": "3.7.6"
    },
    "colab": {
      "provenance": []
    },
    "accelerator": "GPU"
  },
  "cells": [
    {
      "cell_type": "markdown",
      "metadata": {
        "id": "GUKupJlSaM80"
      },
      "source": [
        "##본 실습내용은 이진원 강사님이 정리하신 내용입니다.\n"
      ]
    },
    {
      "cell_type": "markdown",
      "metadata": {
        "id": "c3QWirgglTmV"
      },
      "source": [
        "# Multi-Layer Perceptrons\n",
        "\n",
        "이번 실습에서는 multi-layer perceptron을 이용하여 classification 문제를 풀어보겠습니다"
      ]
    },
    {
      "cell_type": "code",
      "metadata": {
        "id": "ADuPU9nUlTmc",
        "colab": {
          "base_uri": "https://localhost:8080/"
        },
        "outputId": "d1678043-1a4c-4318-f74e-3b56b50b8955"
      },
      "source": [
        "## 필요한 Library들을 import 합니다\n",
        "import numpy as np\n",
        "import matplotlib.pyplot as plt\n",
        "import tensorflow as tf\n",
        "from tensorflow import keras\n",
        "\n",
        "## TensorFlow, Keras version 확인\n",
        "print(tf.__version__)\n",
        "print(keras.__version__)"
      ],
      "execution_count": null,
      "outputs": [
        {
          "output_type": "stream",
          "text": [
            "2.4.1\n",
            "2.4.0\n"
          ],
          "name": "stdout"
        }
      ]
    },
    {
      "cell_type": "code",
      "metadata": {
        "id": "I6L7s2DylTmh"
      },
      "source": [
        "np.random.seed(777) # random seed를 넣으면 결과가 비슷하게 나온다.\n",
        "tf.random.set_seed(777)"
      ],
      "execution_count": null,
      "outputs": []
    },
    {
      "cell_type": "markdown",
      "metadata": {
        "id": "DYPXmllWlTmk"
      },
      "source": [
        "## Coding Tips\n",
        "\n",
        "#### 1. Hyper Parameter 정하기\n",
        "#### 2. Data 준비(불러오기 or download 등)\n",
        "#### 3. Dataset 구성 (tf.data.Dataset 이용)\n",
        "#### 4. Model 만들기 (Neural Network model)\n",
        "#### 5. Loss function 정의, Optimizer 선택\n",
        "#### 6. Training (Train, Test function 만들기 포함)\n",
        "#### 7. Validation(or Test) 결과 확인\n"
      ]
    },
    {
      "cell_type": "markdown",
      "metadata": {
        "id": "U17keWj8lTnc"
      },
      "source": [
        "### Fashion MNIST(MNIST) Dataset 분류"
      ]
    },
    {
      "cell_type": "markdown",
      "metadata": {
        "id": "JSTFuoXDlTnd"
      },
      "source": [
        "10개의 범주(category)와 70,000개의 흑백 이미지로 구성된 [패션 MNIST](https://github.com/zalandoresearch/fashion-mnist) 데이터셋을 사용하겠습니다. 이미지는 해상도(28x28 픽셀)가 낮고 다음처럼 개별 옷 품목을 나타냅니다:\n",
        "\n",
        "<table>\n",
        "  <tr><td>\n",
        "    <img src=\"https://tensorflow.org/images/fashion-mnist-sprite.png\"\n",
        "         alt=\"Fashion MNIST sprite\"  width=\"600\">\n",
        "  </td></tr>\n",
        "  <tr><td align=\"center\">\n",
        "    <b>그림</b> <a href=\"https://github.com/zalandoresearch/fashion-mnist\">패션-MNIST 샘플</a> (Zalando, MIT License).<br/>&nbsp;\n",
        "  </td></tr>\n",
        "</table>\n",
        "\n",
        "패션 MNIST는 컴퓨터 비전 분야의 \"Hello, World\" 프로그램격인 고전 [MNIST](http://yann.lecun.com/exdb/mnist/) 데이터셋을 대신해서 자주 사용됩니다. MNIST 데이터셋은 손글씨 숫자(0, 1, 2 등)의 이미지로 이루어져 있습니다. 여기서 사용하려는 옷 이미지와 동일한 포맷입니다.\n",
        "\n",
        "패션 MNIST는 일반적인 MNIST 보다 조금 더 어려운 문제이고 다양한 예제를 만들기 위해 선택했습니다. 두 데이터셋은 비교적 작기 때문에 알고리즘의 작동 여부를 확인하기 위해 사용되곤 합니다. 코드를 테스트하고 디버깅하는 용도로 좋습니다.\n",
        "\n",
        "네트워크를 훈련하는데 60,000개의 이미지를 사용합니다. 그다음 네트워크가 얼마나 정확하게 이미지를 분류하는지 10,000개의 이미지로 평가하겠습니다. 패션 MNIST 데이터셋은 텐서플로에서 바로 임포트하여 적재할 수 있습니다:"
      ]
    },
    {
      "cell_type": "markdown",
      "metadata": {
        "id": "U9Jd24RAlTne"
      },
      "source": [
        "이미지는 28x28 크기의 넘파이 배열이고 픽셀 값은 0과 255 사이입니다. *레이블*(label)은 0에서 9까지의 정수 배열입니다. 이 값은 이미지에 있는 옷의 *클래스*(class)를 나타냅니다:\n",
        "\n",
        "<table>\n",
        "  <tr>\n",
        "    <th>레이블</th>\n",
        "    <th>클래스</th>\n",
        "  </tr>\n",
        "  <tr>\n",
        "    <td>0</td>\n",
        "    <td>T-shirt/top</td>\n",
        "  </tr>\n",
        "  <tr>\n",
        "    <td>1</td>\n",
        "    <td>Trouser</td>\n",
        "  </tr>\n",
        "    <tr>\n",
        "    <td>2</td>\n",
        "    <td>Pullover</td>\n",
        "  </tr>\n",
        "    <tr>\n",
        "    <td>3</td>\n",
        "    <td>Dress</td>\n",
        "  </tr>\n",
        "    <tr>\n",
        "    <td>4</td>\n",
        "    <td>Coat</td>\n",
        "  </tr>\n",
        "    <tr>\n",
        "    <td>5</td>\n",
        "    <td>Sandal</td>\n",
        "  </tr>\n",
        "    <tr>\n",
        "    <td>6</td>\n",
        "    <td>Shirt</td>\n",
        "  </tr>\n",
        "    <tr>\n",
        "    <td>7</td>\n",
        "    <td>Sneaker</td>\n",
        "  </tr>\n",
        "    <tr>\n",
        "    <td>8</td>\n",
        "    <td>Bag</td>\n",
        "  </tr>\n",
        "    <tr>\n",
        "    <td>9</td>\n",
        "    <td>Ankle boot</td>\n",
        "  </tr>\n",
        "</table>\n",
        "\n",
        "각 이미지는 하나의 레이블에 매핑되어 있습니다. 데이터셋에 *클래스 이름*이 들어있지 않기 때문에 나중에 이미지를 출력할 때 사용하기 위해 별도의 변수를 만들어 저장합니다"
      ]
    },
    {
      "cell_type": "code",
      "metadata": {
        "id": "fG3DQKuQlTnf"
      },
      "source": [
        "## Hyper-parameters\n",
        "learning_rate = 0.001\n",
        "N_EPOCHS = 30\n",
        "N_BATCH = 100\n",
        "N_CLASS = 10"
      ],
      "execution_count": null,
      "outputs": []
    },
    {
      "cell_type": "code",
      "metadata": {
        "id": "0HXwl2mElTnh"
      },
      "source": [
        "## MNIST Dataset #########################################################\n",
        "#mnist = keras.datasets.mnist\n",
        "#class_names = ['0', '1', '2', '3', '4', '5', '6', '7', '8', '9']\n",
        "##########################################################################\n",
        "\n",
        "## Fashion MNIST Dataset #################################################\n",
        "mnist = keras.datasets.fashion_mnist\n",
        "class_names = ['T-shirt/top', 'Trouser', 'Pullover', 'Dress', 'Coat', 'Sandal', 'Shirt', 'Sneaker', 'Bag', 'Ankle boot']\n",
        "##########################################################################"
      ],
      "execution_count": null,
      "outputs": []
    },
    {
      "cell_type": "code",
      "metadata": {
        "id": "66ilJSEhlTnj",
        "colab": {
          "base_uri": "https://localhost:8080/"
        },
        "outputId": "0714da8e-2cb1-4443-c853-a2e92f0a60e9"
      },
      "source": [
        "## MNIST dataset load\n",
        "(train_images, train_labels), (test_images, test_labels) = mnist.load_data() "
      ],
      "execution_count": null,
      "outputs": [
        {
          "output_type": "stream",
          "text": [
            "Downloading data from https://storage.googleapis.com/tensorflow/tf-keras-datasets/train-labels-idx1-ubyte.gz\n",
            "32768/29515 [=================================] - 0s 0us/step\n",
            "Downloading data from https://storage.googleapis.com/tensorflow/tf-keras-datasets/train-images-idx3-ubyte.gz\n",
            "26427392/26421880 [==============================] - 1s 0us/step\n",
            "Downloading data from https://storage.googleapis.com/tensorflow/tf-keras-datasets/t10k-labels-idx1-ubyte.gz\n",
            "8192/5148 [===============================================] - 0s 0us/step\n",
            "Downloading data from https://storage.googleapis.com/tensorflow/tf-keras-datasets/t10k-images-idx3-ubyte.gz\n",
            "4423680/4422102 [==============================] - 0s 0us/step\n"
          ],
          "name": "stdout"
        }
      ]
    },
    {
      "cell_type": "code",
      "metadata": {
        "id": "iFI4VOBYlTnm",
        "colab": {
          "base_uri": "https://localhost:8080/"
        },
        "outputId": "57ad3ac9-6fa4-434f-c3bc-8a984a0ca8f5"
      },
      "source": [
        "## train_images, train_labels의 shape 확인\n",
        "train_images.shape, train_labels.shape"
      ],
      "execution_count": null,
      "outputs": [
        {
          "output_type": "execute_result",
          "data": {
            "text/plain": [
              "((60000, 28, 28), (60000,))"
            ]
          },
          "metadata": {
            "tags": []
          },
          "execution_count": 6
        }
      ]
    },
    {
      "cell_type": "code",
      "metadata": {
        "colab": {
          "base_uri": "https://localhost:8080/"
        },
        "id": "h4RBZJLL9ues",
        "outputId": "e773d761-76e6-42f4-e987-d7d7e17e0187"
      },
      "source": [
        "print(train_labels[1])"
      ],
      "execution_count": null,
      "outputs": [
        {
          "output_type": "stream",
          "text": [
            "0\n"
          ],
          "name": "stdout"
        }
      ]
    },
    {
      "cell_type": "code",
      "metadata": {
        "id": "oNChZYZclTno",
        "colab": {
          "base_uri": "https://localhost:8080/"
        },
        "outputId": "fe9636a7-c7a3-4fd6-df25-4d2919ef4c45"
      },
      "source": [
        "## test_images, test_labels의 shape 확인\n",
        "test_images.shape, test_labels.shape   # (5,) --> ,는 튜플임을 나타낸다."
      ],
      "execution_count": null,
      "outputs": [
        {
          "output_type": "execute_result",
          "data": {
            "text/plain": [
              "((10000, 28, 28), (10000,))"
            ]
          },
          "metadata": {
            "tags": []
          },
          "execution_count": 7
        }
      ]
    },
    {
      "cell_type": "code",
      "metadata": {
        "id": "5cSgEig7lTnr",
        "colab": {
          "base_uri": "https://localhost:8080/"
        },
        "outputId": "0f8c3530-b318-459c-a966-d54df806a377"
      },
      "source": [
        "## training set의 각 class 별 image 수 확인\n",
        "unique, counts = np.unique(train_labels, axis=-1, return_counts=True)\n",
        "dict(zip(unique, counts))"
      ],
      "execution_count": null,
      "outputs": [
        {
          "output_type": "execute_result",
          "data": {
            "text/plain": [
              "{0: 6000,\n",
              " 1: 6000,\n",
              " 2: 6000,\n",
              " 3: 6000,\n",
              " 4: 6000,\n",
              " 5: 6000,\n",
              " 6: 6000,\n",
              " 7: 6000,\n",
              " 8: 6000,\n",
              " 9: 6000}"
            ]
          },
          "metadata": {
            "tags": []
          },
          "execution_count": 13
        }
      ]
    },
    {
      "cell_type": "code",
      "metadata": {
        "id": "VRXq8XeNlTnt",
        "colab": {
          "base_uri": "https://localhost:8080/"
        },
        "outputId": "50b609b9-f6a3-4db8-e5ee-6f6d5d5373ce"
      },
      "source": [
        "## test set의 각 class 별 image 수 확인\n",
        "unique, counts = np.unique(test_labels, axis=-1, return_counts=True)\n",
        "dict(zip(unique, counts))"
      ],
      "execution_count": null,
      "outputs": [
        {
          "output_type": "execute_result",
          "data": {
            "text/plain": [
              "{0: 1000,\n",
              " 1: 1000,\n",
              " 2: 1000,\n",
              " 3: 1000,\n",
              " 4: 1000,\n",
              " 5: 1000,\n",
              " 6: 1000,\n",
              " 7: 1000,\n",
              " 8: 1000,\n",
              " 9: 1000}"
            ]
          },
          "metadata": {
            "tags": []
          },
          "execution_count": 14
        }
      ]
    },
    {
      "cell_type": "code",
      "metadata": {
        "id": "tzBb5S8GlTnv",
        "colab": {
          "base_uri": "https://localhost:8080/"
        },
        "outputId": "02341b2f-8cbf-4bd0-959a-f3b75f980542"
      },
      "source": [
        "N_TRAIN = train_images.shape[0]\n",
        "N_TEST = test_images.shape[0]\n",
        "print(N_TRAIN)\n",
        "print(N_TEST)"
      ],
      "execution_count": null,
      "outputs": [
        {
          "output_type": "stream",
          "text": [
            "60000\n",
            "10000\n"
          ],
          "name": "stdout"
        }
      ]
    },
    {
      "cell_type": "code",
      "metadata": {
        "id": "D950PM8QlTny",
        "colab": {
          "base_uri": "https://localhost:8080/",
          "height": 265
        },
        "outputId": "738c8e67-58fa-458e-c41b-b6b2adc10f9d"
      },
      "source": [
        "## train_images의 0번 image 화면에 출력\n",
        "plt.figure()\n",
        "plt.imshow(train_images[2], cmap=plt.cm.binary)\n",
        "plt.colorbar()\n",
        "plt.show()"
      ],
      "execution_count": null,
      "outputs": [
        {
          "output_type": "display_data",
          "data": {
            "image/png": "[encoded data removed]",
            "text/plain": [
              "<Figure size 432x288 with 2 Axes>"
            ]
          },
          "metadata": {
            "tags": [],
            "needs_background": "light"
          }
        }
      ]
    },
    {
      "cell_type": "code",
      "metadata": {
        "id": "bv4WpypTlTn1",
        "colab": {
          "base_uri": "https://localhost:8080/",
          "height": 673
        },
        "outputId": "47896342-728a-4aa8-b5b8-2d03f483c4e8"
      },
      "source": [
        "## 25개의 train image와 label 화면에 출력\n",
        "plt.figure(figsize=(15,15))\n",
        "for i in range(25):\n",
        "    plt.subplot(5,5,i+1)\n",
        "    plt.xticks([])\n",
        "    plt.yticks([])\n",
        "    plt.grid(False)\n",
        "    plt.imshow(train_images[i], cmap=plt.cm.binary)\n",
        "    plt.xlabel(class_names[train_labels[i]])"
      ],
      "execution_count": null,
      "outputs": [
        {
          "output_type": "display_data",
          "data": {
            "image/png": "[encoded data removed]",
            "text/plain": [
              "<Figure size 1080x1080 with 25 Axes>"
            ]
          },
          "metadata": {
            "tags": []
          }
        }
      ]
    },
    {
      "cell_type": "code",
      "metadata": {
        "id": "ogJJHotUlTn3"
      },
      "source": [
        "## image를 0~1사이 값으로 만들기 위하여 255로 나누어줌\n",
        "train_images = train_images.astype(np.float32) / 255.\n",
        "test_images = test_images.astype(np.float32) / 255.\n",
        "\n",
        "## one-hot encoding\n",
        "train_labels = keras.utils.to_categorical(train_labels, N_CLASS)\n",
        "test_labels = keras.utils.to_categorical(test_labels, N_CLASS)"
      ],
      "execution_count": null,
      "outputs": []
    },
    {
      "cell_type": "code",
      "metadata": {
        "id": "izzGS22klTn5"
      },
      "source": [
        "## dataset 구성    \n",
        "train_dataset = tf.data.Dataset.from_tensor_slices((train_images, train_labels)).shuffle(\n",
        "                buffer_size=100000).batch(N_BATCH).repeat()\n",
        "test_dataset = tf.data.Dataset.from_tensor_slices((test_images, test_labels)).batch(N_BATCH)"
      ],
      "execution_count": null,
      "outputs": []
    },
    {
      "cell_type": "code",
      "metadata": {
        "id": "DxLmaViWlTn8"
      },
      "source": [
        "## model function\n",
        "def create_model():\n",
        "    model = keras.Sequential()\n",
        "    model.add(keras.layers.Flatten(input_shape=(28,28)))  #batch사이즈는 빼고 쓴다. 한 개 데이터의 사이즈에 대해서만 쓴다.\n",
        "    model.add(keras.layers.Dense(256, activation='relu'))\n",
        "    model.add(keras.layers.Dense(128, activation='relu'))\n",
        "    model.add(keras.layers.Dense(10, activation='softmax'))\n",
        "    return model"
      ],
      "execution_count": null,
      "outputs": []
    },
    {
      "cell_type": "code",
      "metadata": {
        "id": "QQVFmqRZlTn-",
        "colab": {
          "base_uri": "https://localhost:8080/"
        },
        "outputId": "064eef7b-e585-4752-ed7c-3cb5f4457f85"
      },
      "source": [
        "## Create model, compile & summary\n",
        "model = create_model()\n",
        "model.compile(optimizer=tf.keras.optimizers.Adam(learning_rate),\n",
        "              loss='categorical_crossentropy', # loss='sparse_categorical_crossentropy' 를 하면 one-hot encoding을 자동으로 해준다.\n",
        "              metrics=['accuracy'])   #metrics=['accuracy','loss']) 이런식으로 여러개를 보려고 하면 쓸 수 있다\n",
        "model.summary()"
      ],
      "execution_count": null,
      "outputs": [
        {
          "output_type": "stream",
          "text": [
            "Model: \"sequential\"\n",
            "_________________________________________________________________\n",
            "Layer (type)                 Output Shape              Param #   \n",
            "=================================================================\n",
            "flatten (Flatten)            (None, 784)               0         \n",
            "_________________________________________________________________\n",
            "dense (Dense)                (None, 256)               200960    \n",
            "_________________________________________________________________\n",
            "dense_1 (Dense)              (None, 128)               32896     \n",
            "_________________________________________________________________\n",
            "dense_2 (Dense)              (None, 10)                1290      \n",
            "=================================================================\n",
            "Total params: 235,146\n",
            "Trainable params: 235,146\n",
            "Non-trainable params: 0\n",
            "_________________________________________________________________\n"
          ],
          "name": "stdout"
        }
      ]
    },
    {
      "cell_type": "code",
      "metadata": {
        "id": "8c40XeIOlToA",
        "colab": {
          "base_uri": "https://localhost:8080/"
        },
        "outputId": "24e14f77-97fb-4f76-ee73-60fe66951ffd"
      },
      "source": [
        "## Parameters for training\n",
        "steps_per_epoch = N_TRAIN//N_BATCH\n",
        "validation_steps = N_TEST//N_BATCH\n",
        "print(steps_per_epoch, validation_steps)"
      ],
      "execution_count": null,
      "outputs": [
        {
          "output_type": "stream",
          "text": [
            "600 100\n"
          ],
          "name": "stdout"
        }
      ]
    },
    {
      "cell_type": "code",
      "metadata": {
        "id": "N2IjoUqPlToC",
        "colab": {
          "base_uri": "https://localhost:8080/"
        },
        "outputId": "bf1441fe-4d30-4c06-e70d-9bbcd8c838a8"
      },
      "source": [
        "## Training\n",
        "history = model.fit(train_dataset, epochs=N_EPOCHS, steps_per_epoch=steps_per_epoch, \n",
        "                    validation_data=test_dataset, validation_steps=validation_steps)"
      ],
      "execution_count": null,
      "outputs": [
        {
          "output_type": "stream",
          "text": [
            "Epoch 1/30\n",
            "600/600 [==============================] - 5s 4ms/step - loss: 0.6568 - accuracy: 0.7743 - val_loss: 0.4233 - val_accuracy: 0.8505\n",
            "Epoch 2/30\n",
            "600/600 [==============================] - 2s 3ms/step - loss: 0.3711 - accuracy: 0.8660 - val_loss: 0.3721 - val_accuracy: 0.8642\n",
            "Epoch 3/30\n",
            "600/600 [==============================] - 2s 3ms/step - loss: 0.3236 - accuracy: 0.8793 - val_loss: 0.3484 - val_accuracy: 0.8740\n",
            "Epoch 4/30\n",
            "600/600 [==============================] - 2s 3ms/step - loss: 0.3009 - accuracy: 0.8882 - val_loss: 0.3633 - val_accuracy: 0.8720\n",
            "Epoch 5/30\n",
            "600/600 [==============================] - 2s 3ms/step - loss: 0.2844 - accuracy: 0.8943 - val_loss: 0.3464 - val_accuracy: 0.8751\n",
            "Epoch 6/30\n",
            "600/600 [==============================] - 2s 3ms/step - loss: 0.2615 - accuracy: 0.9020 - val_loss: 0.3341 - val_accuracy: 0.8756\n",
            "Epoch 7/30\n",
            "600/600 [==============================] - 2s 3ms/step - loss: 0.2574 - accuracy: 0.9040 - val_loss: 0.3489 - val_accuracy: 0.8782\n",
            "Epoch 8/30\n",
            "600/600 [==============================] - 2s 3ms/step - loss: 0.2448 - accuracy: 0.9095 - val_loss: 0.3230 - val_accuracy: 0.8839\n",
            "Epoch 9/30\n",
            "600/600 [==============================] - 2s 3ms/step - loss: 0.2338 - accuracy: 0.9118 - val_loss: 0.3328 - val_accuracy: 0.8831\n",
            "Epoch 10/30\n",
            "600/600 [==============================] - 2s 3ms/step - loss: 0.2273 - accuracy: 0.9146 - val_loss: 0.3399 - val_accuracy: 0.8840\n",
            "Epoch 11/30\n",
            "600/600 [==============================] - 2s 3ms/step - loss: 0.2167 - accuracy: 0.9182 - val_loss: 0.3157 - val_accuracy: 0.8879\n",
            "Epoch 12/30\n",
            "600/600 [==============================] - 2s 3ms/step - loss: 0.2036 - accuracy: 0.9231 - val_loss: 0.3319 - val_accuracy: 0.8902\n",
            "Epoch 13/30\n",
            "600/600 [==============================] - 2s 3ms/step - loss: 0.1979 - accuracy: 0.9248 - val_loss: 0.3239 - val_accuracy: 0.8881\n",
            "Epoch 14/30\n",
            "600/600 [==============================] - 2s 3ms/step - loss: 0.1908 - accuracy: 0.9277 - val_loss: 0.3224 - val_accuracy: 0.8910\n",
            "Epoch 15/30\n",
            "600/600 [==============================] - 2s 3ms/step - loss: 0.1806 - accuracy: 0.9309 - val_loss: 0.3371 - val_accuracy: 0.8864\n",
            "Epoch 16/30\n",
            "600/600 [==============================] - 2s 3ms/step - loss: 0.1799 - accuracy: 0.9311 - val_loss: 0.3408 - val_accuracy: 0.8899\n",
            "Epoch 17/30\n",
            "600/600 [==============================] - 2s 3ms/step - loss: 0.1728 - accuracy: 0.9340 - val_loss: 0.3426 - val_accuracy: 0.8905\n",
            "Epoch 18/30\n",
            "600/600 [==============================] - 2s 3ms/step - loss: 0.1659 - accuracy: 0.9364 - val_loss: 0.3431 - val_accuracy: 0.8887\n",
            "Epoch 19/30\n",
            "600/600 [==============================] - 2s 3ms/step - loss: 0.1615 - accuracy: 0.9374 - val_loss: 0.3410 - val_accuracy: 0.8923\n",
            "Epoch 20/30\n",
            "600/600 [==============================] - 2s 3ms/step - loss: 0.1537 - accuracy: 0.9404 - val_loss: 0.3581 - val_accuracy: 0.8908\n",
            "Epoch 21/30\n",
            "600/600 [==============================] - 2s 3ms/step - loss: 0.1480 - accuracy: 0.9429 - val_loss: 0.3585 - val_accuracy: 0.8845\n",
            "Epoch 22/30\n",
            "600/600 [==============================] - 2s 3ms/step - loss: 0.1443 - accuracy: 0.9438 - val_loss: 0.3769 - val_accuracy: 0.8882\n",
            "Epoch 23/30\n",
            "600/600 [==============================] - 2s 3ms/step - loss: 0.1413 - accuracy: 0.9452 - val_loss: 0.3740 - val_accuracy: 0.8875\n",
            "Epoch 24/30\n",
            "600/600 [==============================] - 2s 3ms/step - loss: 0.1353 - accuracy: 0.9473 - val_loss: 0.3748 - val_accuracy: 0.8948\n",
            "Epoch 25/30\n",
            "600/600 [==============================] - 2s 3ms/step - loss: 0.1289 - accuracy: 0.9514 - val_loss: 0.3952 - val_accuracy: 0.8905\n",
            "Epoch 26/30\n",
            "600/600 [==============================] - 2s 3ms/step - loss: 0.1294 - accuracy: 0.9507 - val_loss: 0.3898 - val_accuracy: 0.8931\n",
            "Epoch 27/30\n",
            "600/600 [==============================] - 2s 3ms/step - loss: 0.1233 - accuracy: 0.9536 - val_loss: 0.4060 - val_accuracy: 0.8917\n",
            "Epoch 28/30\n",
            "600/600 [==============================] - 2s 3ms/step - loss: 0.1213 - accuracy: 0.9545 - val_loss: 0.3811 - val_accuracy: 0.8940\n",
            "Epoch 29/30\n",
            "600/600 [==============================] - 2s 3ms/step - loss: 0.1092 - accuracy: 0.9590 - val_loss: 0.4230 - val_accuracy: 0.8935\n",
            "Epoch 30/30\n",
            "600/600 [==============================] - 2s 3ms/step - loss: 0.1124 - accuracy: 0.9576 - val_loss: 0.4130 - val_accuracy: 0.8934\n"
          ],
          "name": "stdout"
        }
      ]
    },
    {
      "cell_type": "code",
      "metadata": {
        "id": "2PgOa7oflToF",
        "colab": {
          "base_uri": "https://localhost:8080/"
        },
        "outputId": "9505d234-c154-4977-b88e-d3bcc07ad757"
      },
      "source": [
        "model.evaluate(test_dataset)"
      ],
      "execution_count": null,
      "outputs": [
        {
          "output_type": "stream",
          "text": [
            "100/100 [==============================] - 0s 3ms/step - loss: 0.4017 - accuracy: 0.8933\n"
          ],
          "name": "stdout"
        },
        {
          "output_type": "execute_result",
          "data": {
            "text/plain": [
              "[0.40174317359924316, 0.8932999968528748]"
            ]
          },
          "metadata": {
            "tags": []
          },
          "execution_count": 21
        }
      ]
    },
    {
      "cell_type": "code",
      "metadata": {
        "id": "AcwCLSLJlToJ",
        "colab": {
          "base_uri": "https://localhost:8080/",
          "height": 279
        },
        "outputId": "92aa5556-27ca-4673-f373-f13164ca711d"
      },
      "source": [
        "## Plot losses\n",
        "plt.plot(history.history['loss'], 'b-', label='loss')\n",
        "plt.plot(history.history['val_loss'], 'r--', label='val_loss')\n",
        "plt.xlabel('Epoch')\n",
        "plt.legend()\n",
        "plt.show()"
      ],
      "execution_count": null,
      "outputs": [
        {
          "output_type": "display_data",
          "data": {
            "image/png": "[encoded data removed]",
            "text/plain": [
              "<Figure size 432x288 with 1 Axes>"
            ]
          },
          "metadata": {
            "tags": [],
            "needs_background": "light"
          }
        }
      ]
    },
    {
      "cell_type": "code",
      "metadata": {
        "id": "9CCIrI5RlToN",
        "colab": {
          "base_uri": "https://localhost:8080/",
          "height": 279
        },
        "outputId": "fd0749f7-14ef-4133-c6eb-f9faa7d413b8"
      },
      "source": [
        "## Plot losses\n",
        "plt.plot(history.history['accuracy'], 'b-', label='loss')\n",
        "plt.plot(history.history['val_accuracy'], 'r--', label='val_loss')\n",
        "plt.xlabel('Epoch')\n",
        "plt.legend()\n",
        "plt.show()"
      ],
      "execution_count": null,
      "outputs": [
        {
          "output_type": "display_data",
          "data": {
            "image/png": "[encoded data removed]",
            "text/plain": [
              "<Figure size 432x288 with 1 Axes>"
            ]
          },
          "metadata": {
            "tags": [],
            "needs_background": "light"
          }
        }
      ]
    },
    {
      "cell_type": "code",
      "metadata": {
        "id": "SpBLpASylToP"
      },
      "source": [
        "## 결과 확\n",
        "def plot_image(i, predictions_array, true_label, img):\n",
        "    predictions_array, true_label, img = predictions_array[i], true_label[i], img[i]\n",
        "    plt.grid(False)\n",
        "    plt.xticks([])\n",
        "    plt.yticks([])\n",
        "\n",
        "    plt.imshow(img,cmap=plt.cm.binary)\n",
        "\n",
        "    predicted_label = np.argmax(predictions_array)\n",
        "    if predicted_label == true_label:\n",
        "        color = 'blue'\n",
        "    else:\n",
        "        color = 'red'\n",
        "\n",
        "    plt.xlabel(\"{} {:2.0f}% ({})\".format(class_names[predicted_label],\n",
        "                                100*np.max(predictions_array),\n",
        "                                class_names[true_label]),\n",
        "                                color=color)\n",
        "\n",
        "def plot_value_array(i, predictions_array, true_label):\n",
        "    predictions_array, true_label = predictions_array[i], true_label[i]\n",
        "    plt.grid(False)\n",
        "    #plt.xticks([])\n",
        "    plt.xticks(range(N_CLASS), class_names, rotation=90)\n",
        "    plt.yticks([])\n",
        "    thisplot = plt.bar(range(N_CLASS), predictions_array, color=\"#777777\")\n",
        "    plt.ylim([0, 1]) \n",
        "    predicted_label = np.argmax(predictions_array)\n",
        " \n",
        "    thisplot[predicted_label].set_color('red')\n",
        "    thisplot[true_label].set_color('blue')"
      ],
      "execution_count": null,
      "outputs": []
    },
    {
      "cell_type": "code",
      "metadata": {
        "id": "B75enAOFlToR",
        "colab": {
          "base_uri": "https://localhost:8080/",
          "height": 885
        },
        "outputId": "91338d17-5b3d-4b85-fd37-6d5e1cdd984a"
      },
      "source": [
        "rnd_idx = np.random.randint(1, N_TEST//N_BATCH)\n",
        "img_cnt = 0\n",
        "for images, labels in test_dataset:\n",
        "    img_cnt += 1\n",
        "    if img_cnt != rnd_idx:\n",
        "        continue\n",
        "    predictions = model(images, training=False)\n",
        "    num_rows = 5\n",
        "    num_cols = 3\n",
        "    num_images = num_rows*num_cols\n",
        "    labels = tf.argmax(labels, axis=-1)\n",
        "    plt.figure(figsize=(3*2*num_cols, 4*num_rows))\n",
        "    plt.subplots_adjust(hspace=1.0)\n",
        "    for i in range(num_images):\n",
        "        plt.subplot(num_rows, 2*num_cols, 2*i+1)\n",
        "        plot_image(i, predictions.numpy(), labels.numpy(), images.numpy())\n",
        "        plt.subplot(num_rows, 2*num_cols, 2*i+2)\n",
        "        plot_value_array(i, predictions.numpy(), labels.numpy())        \n",
        "    break"
      ],
      "execution_count": null,
      "outputs": [
        {
          "output_type": "display_data",
          "data": {
            "image/png": "[encoded data removed]",
            "text/plain": [
              "<Figure size 1296x1440 with 30 Axes>"
            ]
          },
          "metadata": {
            "tags": [],
            "needs_background": "light"
          }
        }
      ]
    },
    {
      "cell_type": "markdown",
      "metadata": {
        "id": "wKkxr_ZCXgEv"
      },
      "source": [
        "# Convolutional Neural Network\n",
        "이번 실습에서는 MNIST data를 이용하여 CNN을 학습하고 MLP와 결과를 비교해보겠습니다.\n",
        "\n",
        "또한, 학습된 model을 저장하는 방법을 알아보고,\n",
        "\n",
        "Sequential API 외에 Functional API를 사용하여 model을 만드는 방법에 대해서 알아보겠습니다."
      ]
    },
    {
      "cell_type": "code",
      "metadata": {
        "id": "kigvz6HmXg5_",
        "colab": {
          "base_uri": "https://localhost:8080/"
        },
        "outputId": "3d904ccc-1b8b-49ab-8c1d-61465b3bccda"
      },
      "source": [
        "## 필요한 Library들을 import 합니다\n",
        "import os\n",
        "import numpy as np\n",
        "import matplotlib.pyplot as plt\n",
        "import tensorflow as tf\n",
        "from tensorflow import keras\n",
        "\n",
        "## TensorFlow, Keras version 확인\n",
        "print(tf.__version__)\n",
        "print(keras.__version__)"
      ],
      "execution_count": null,
      "outputs": [
        {
          "output_type": "stream",
          "text": [
            "2.4.1\n",
            "2.4.0\n"
          ],
          "name": "stdout"
        }
      ]
    },
    {
      "cell_type": "code",
      "metadata": {
        "id": "Ml4BFERMXmtx"
      },
      "source": [
        "np.random.seed(777)\n",
        "tf.random.set_seed(777)"
      ],
      "execution_count": null,
      "outputs": []
    },
    {
      "cell_type": "markdown",
      "metadata": {
        "id": "3gLq7v5UXqTZ"
      },
      "source": [
        "Coding Tips\n",
        "1. Hyper Paramter 정하기\n",
        "2. Data 준비(불러오기 or download 등)\n",
        "3. Dataset 구성 (tf.data.Dataset 이용)\n",
        "4. Modlel 만들기 (Neural Network model)\n",
        "5. Loss function 정의, Optimizer 선택\n",
        "6. Training (Train, Test function 만들기 포함)\n",
        "7. Validation(or Test) 결과 확인"
      ]
    },
    {
      "cell_type": "code",
      "metadata": {
        "id": "qsLRvYacXvHP"
      },
      "source": [
        "## Hyper-parameters\n",
        "learning_rate = 0.001\n",
        "N_EPOCHS = 20\n",
        "N_BATCH = 100\n",
        "N_CLASS = 10"
      ],
      "execution_count": null,
      "outputs": []
    },
    {
      "cell_type": "code",
      "metadata": {
        "id": "e9LClwC5Xxr0"
      },
      "source": [
        "## MNIST Dataset #########################################################\n",
        "mnist = keras.datasets.mnist\n",
        "class_names = ['0', '1', '2', '3', '4', '5', '6', '7', '8', '9']\n",
        "##########################################################################\n",
        "\n",
        "## Fashion MNIST Dataset #################################################\n",
        "#mnist = keras.datasets.fashion_mnist\n",
        "#class_names = ['T-shirt/top', 'Trouser', 'Pullover', 'Dress', 'Coat', 'Sandal', 'Shirt', 'Sneaker', 'Bag', 'Ankle boot']\n",
        "##########################################################################"
      ],
      "execution_count": null,
      "outputs": []
    },
    {
      "cell_type": "code",
      "metadata": {
        "id": "n3hMNjaMXzvd",
        "colab": {
          "base_uri": "https://localhost:8080/"
        },
        "outputId": "9c11adec-7f0c-49c4-94d6-90b65953b477"
      },
      "source": [
        "## MNIST dataset load\n",
        "(train_images, train_labels), (test_images, test_labels) = mnist.load_data() "
      ],
      "execution_count": null,
      "outputs": [
        {
          "output_type": "stream",
          "text": [
            "Downloading data from https://storage.googleapis.com/tensorflow/tf-keras-datasets/mnist.npz\n",
            "11493376/11490434 [==============================] - 0s 0us/step\n"
          ],
          "name": "stdout"
        }
      ]
    },
    {
      "cell_type": "code",
      "metadata": {
        "id": "8fgXvXVQX2UF"
      },
      "source": [
        "N_TRAIN = train_images.shape[0]\n",
        "N_TEST = test_images.shape[0]"
      ],
      "execution_count": null,
      "outputs": []
    },
    {
      "cell_type": "code",
      "metadata": {
        "id": "qMr3NYdsX4dj"
      },
      "source": [
        "# pixel값을 0~1사이 범위로 조정\n",
        "train_images = train_images.astype(np.float32) / 255.\n",
        "test_images = test_images.astype(np.float32) / 255.\n",
        "# CNN에 입력으로 넣기 위해 3차원->4차원으로 변경(channel에 1을 추가)\n",
        "train_images = train_images[..., tf.newaxis]  #train_images = train_images[:,:,:, tf.newaxis] --> 이렇게 써도 된다.\n",
        "test_images = test_images[..., tf.newaxis]\n",
        "# label을 onehot-encoding\n",
        "train_labels = keras.utils.to_categorical(train_labels, 10)\n",
        "test_labels = keras.utils.to_categorical(test_labels, 10)"
      ],
      "execution_count": null,
      "outputs": []
    },
    {
      "cell_type": "code",
      "metadata": {
        "id": "ohlGiBuDX6iA",
        "colab": {
          "base_uri": "https://localhost:8080/"
        },
        "outputId": "78a373e7-43d8-49da-9b1b-03ed69b6ea0b"
      },
      "source": [
        "train_images.shape"
      ],
      "execution_count": null,
      "outputs": [
        {
          "output_type": "execute_result",
          "data": {
            "text/plain": [
              "(60000, 28, 28, 1)"
            ]
          },
          "metadata": {
            "tags": []
          },
          "execution_count": 35
        }
      ]
    },
    {
      "cell_type": "code",
      "metadata": {
        "id": "MyffpFgnX8gs"
      },
      "source": [
        "## dataset 구성    \n",
        "train_dataset = tf.data.Dataset.from_tensor_slices((train_images, train_labels)).shuffle(\n",
        "                buffer_size=100000).batch(N_BATCH).repeat()\n",
        "test_dataset = tf.data.Dataset.from_tensor_slices((test_images, test_labels)).batch(N_BATCH)"
      ],
      "execution_count": null,
      "outputs": []
    },
    {
      "cell_type": "markdown",
      "metadata": {
        "id": "1NLX-CslX_mY"
      },
      "source": [
        "## Sequential API"
      ]
    },
    {
      "cell_type": "code",
      "metadata": {
        "id": "rX-TeUCzYAB9"
      },
      "source": [
        "# Sequential API를 사용하여 model 구성\n",
        "def create_model():\n",
        "    model = keras.Sequential()\n",
        "    model.add(keras.layers.Conv2D(filters=32, kernel_size=3, activation='relu', padding='SAME', \n",
        "                                  input_shape=(28, 28, 1)))\n",
        "    model.add(keras.layers.MaxPool2D(padding='SAME'))\n",
        "    model.add(keras.layers.Conv2D(filters=64, kernel_size=3, activation='relu', padding='SAME'))\n",
        "    model.add(keras.layers.MaxPool2D(padding='SAME'))\n",
        "    model.add(keras.layers.Conv2D(filters=128, kernel_size=3, activation='relu', padding='SAME'))\n",
        "    model.add(keras.layers.MaxPool2D(padding='SAME'))\n",
        "    model.add(keras.layers.Flatten())\n",
        "    model.add(keras.layers.Dense(256, activation='relu'))\n",
        "    model.add(keras.layers.Dropout(0.4))\n",
        "    model.add(keras.layers.Dense(10, activation='softmax'))\n",
        "    return model"
      ],
      "execution_count": null,
      "outputs": []
    },
    {
      "cell_type": "code",
      "metadata": {
        "id": "YqurqNH8YCwf",
        "colab": {
          "base_uri": "https://localhost:8080/"
        },
        "outputId": "01506511-ecad-4439-b990-b01b013ca075"
      },
      "source": [
        "## Create model, compile & summary\n",
        "model = create_model()\n",
        "model.compile(optimizer=tf.keras.optimizers.Adam(learning_rate),\n",
        "#              loss='sparse_categorical_crossentropy',\n",
        "              loss='categorical_crossentropy', # loss='sparse_categorical_crossentropy' 를 하면 one-hot encoding을 자동으로 해준다.\n",
        "              metrics=['accuracy'])\n",
        "model.summary()"
      ],
      "execution_count": null,
      "outputs": [
        {
          "output_type": "stream",
          "text": [
            "Model: \"sequential_2\"\n",
            "_________________________________________________________________\n",
            "Layer (type)                 Output Shape              Param #   \n",
            "=================================================================\n",
            "conv2d (Conv2D)              (None, 28, 28, 32)        320       \n",
            "_________________________________________________________________\n",
            "max_pooling2d (MaxPooling2D) (None, 14, 14, 32)        0         \n",
            "_________________________________________________________________\n",
            "conv2d_1 (Conv2D)            (None, 14, 14, 64)        18496     \n",
            "_________________________________________________________________\n",
            "max_pooling2d_1 (MaxPooling2 (None, 7, 7, 64)          0         \n",
            "_________________________________________________________________\n",
            "conv2d_2 (Conv2D)            (None, 7, 7, 128)         73856     \n",
            "_________________________________________________________________\n",
            "max_pooling2d_2 (MaxPooling2 (None, 4, 4, 128)         0         \n",
            "_________________________________________________________________\n",
            "flatten_2 (Flatten)          (None, 2048)              0         \n",
            "_________________________________________________________________\n",
            "dense_6 (Dense)              (None, 256)               524544    \n",
            "_________________________________________________________________\n",
            "dropout (Dropout)            (None, 256)               0         \n",
            "_________________________________________________________________\n",
            "dense_7 (Dense)              (None, 10)                2570      \n",
            "=================================================================\n",
            "Total params: 619,786\n",
            "Trainable params: 619,786\n",
            "Non-trainable params: 0\n",
            "_________________________________________________________________\n"
          ],
          "name": "stdout"
        }
      ]
    },
    {
      "cell_type": "code",
      "metadata": {
        "id": "Mgt2IEl8YGhk",
        "colab": {
          "base_uri": "https://localhost:8080/"
        },
        "outputId": "bc4bb7d0-3800-46c7-fe87-6385e85cf160"
      },
      "source": [
        "## 학습 전에 결과 확인\n",
        "model.evaluate(test_dataset)"
      ],
      "execution_count": null,
      "outputs": [
        {
          "output_type": "stream",
          "text": [
            "100/100 [==============================] - 30s 4ms/step - loss: 2.2978 - accuracy: 0.1447\n"
          ],
          "name": "stdout"
        },
        {
          "output_type": "execute_result",
          "data": {
            "text/plain": [
              "[2.2976839542388916, 0.13660000264644623]"
            ]
          },
          "metadata": {
            "tags": []
          },
          "execution_count": 40
        }
      ]
    },
    {
      "cell_type": "code",
      "metadata": {
        "id": "F5yd_8U3YIWu",
        "colab": {
          "base_uri": "https://localhost:8080/"
        },
        "outputId": "bbff10f6-59fb-4356-9791-70866885760d"
      },
      "source": [
        "## Parameters for training\n",
        "steps_per_epoch = N_TRAIN//N_BATCH\n",
        "validation_steps = N_TEST//N_BATCH\n",
        "print(steps_per_epoch, validation_steps)"
      ],
      "execution_count": null,
      "outputs": [
        {
          "output_type": "stream",
          "text": [
            "600 100\n"
          ],
          "name": "stdout"
        }
      ]
    },
    {
      "cell_type": "code",
      "metadata": {
        "id": "IftYeErIYKYo",
        "colab": {
          "base_uri": "https://localhost:8080/"
        },
        "outputId": "58053796-9579-4c55-c463-0ce5cc0a715a"
      },
      "source": [
        "## Training\n",
        "history = model.fit(train_dataset, epochs=N_EPOCHS, steps_per_epoch=steps_per_epoch, \n",
        "                    validation_data=test_dataset, validation_steps=validation_steps)"
      ],
      "execution_count": null,
      "outputs": [
        {
          "output_type": "stream",
          "text": [
            "Epoch 1/20\n",
            "600/600 [==============================] - 4s 6ms/step - loss: 0.1950 - accuracy: 0.9381 - val_loss: 0.0530 - val_accuracy: 0.9815\n",
            "Epoch 2/20\n",
            "600/600 [==============================] - 3s 6ms/step - loss: 0.0592 - accuracy: 0.9827 - val_loss: 0.0261 - val_accuracy: 0.9911\n",
            "Epoch 3/20\n",
            "600/600 [==============================] - 3s 6ms/step - loss: 0.0395 - accuracy: 0.9879 - val_loss: 0.0293 - val_accuracy: 0.9902\n",
            "Epoch 4/20\n",
            "600/600 [==============================] - 4s 6ms/step - loss: 0.0317 - accuracy: 0.9901 - val_loss: 0.0252 - val_accuracy: 0.9919\n",
            "Epoch 5/20\n",
            "600/600 [==============================] - 3s 6ms/step - loss: 0.0241 - accuracy: 0.9926 - val_loss: 0.0219 - val_accuracy: 0.9922\n",
            "Epoch 6/20\n",
            "600/600 [==============================] - 4s 6ms/step - loss: 0.0227 - accuracy: 0.9928 - val_loss: 0.0278 - val_accuracy: 0.9914\n",
            "Epoch 7/20\n",
            "600/600 [==============================] - 4s 6ms/step - loss: 0.0185 - accuracy: 0.9941 - val_loss: 0.0254 - val_accuracy: 0.9919\n",
            "Epoch 8/20\n",
            "600/600 [==============================] - 4s 6ms/step - loss: 0.0147 - accuracy: 0.9953 - val_loss: 0.0221 - val_accuracy: 0.9928\n",
            "Epoch 9/20\n",
            "600/600 [==============================] - 4s 6ms/step - loss: 0.0131 - accuracy: 0.9959 - val_loss: 0.0215 - val_accuracy: 0.9933\n",
            "Epoch 10/20\n",
            "600/600 [==============================] - 4s 6ms/step - loss: 0.0129 - accuracy: 0.9955 - val_loss: 0.0262 - val_accuracy: 0.9915\n",
            "Epoch 11/20\n",
            "600/600 [==============================] - 4s 6ms/step - loss: 0.0111 - accuracy: 0.9967 - val_loss: 0.0222 - val_accuracy: 0.9937\n",
            "Epoch 12/20\n",
            "600/600 [==============================] - 4s 6ms/step - loss: 0.0104 - accuracy: 0.9967 - val_loss: 0.0254 - val_accuracy: 0.9919\n",
            "Epoch 13/20\n",
            "600/600 [==============================] - 4s 6ms/step - loss: 0.0085 - accuracy: 0.9972 - val_loss: 0.0248 - val_accuracy: 0.9927\n",
            "Epoch 14/20\n",
            "600/600 [==============================] - 4s 6ms/step - loss: 0.0089 - accuracy: 0.9972 - val_loss: 0.0286 - val_accuracy: 0.9925\n",
            "Epoch 15/20\n",
            "600/600 [==============================] - 4s 6ms/step - loss: 0.0072 - accuracy: 0.9976 - val_loss: 0.0224 - val_accuracy: 0.9942\n",
            "Epoch 16/20\n",
            "600/600 [==============================] - 4s 6ms/step - loss: 0.0071 - accuracy: 0.9976 - val_loss: 0.0269 - val_accuracy: 0.9941\n",
            "Epoch 17/20\n",
            "600/600 [==============================] - 4s 6ms/step - loss: 0.0066 - accuracy: 0.9978 - val_loss: 0.0258 - val_accuracy: 0.9932\n",
            "Epoch 18/20\n",
            "600/600 [==============================] - 4s 6ms/step - loss: 0.0061 - accuracy: 0.9982 - val_loss: 0.0249 - val_accuracy: 0.9935\n",
            "Epoch 19/20\n",
            "600/600 [==============================] - 4s 6ms/step - loss: 0.0056 - accuracy: 0.9982 - val_loss: 0.0271 - val_accuracy: 0.9935\n",
            "Epoch 20/20\n",
            "600/600 [==============================] - 4s 6ms/step - loss: 0.0059 - accuracy: 0.9981 - val_loss: 0.0337 - val_accuracy: 0.9930\n"
          ],
          "name": "stdout"
        }
      ]
    },
    {
      "cell_type": "code",
      "metadata": {
        "id": "8qOhVxLuYOI2"
      },
      "source": [
        "## 결과 확인\n",
        "def plot_image(i, predictions_array, true_label, img):\n",
        "    predictions_array, true_label, img = predictions_array[i], true_label[i], img[i]\n",
        "    plt.grid(False)\n",
        "    plt.xticks([])\n",
        "    plt.yticks([])\n",
        "\n",
        "    plt.imshow(img[:,:,0],cmap=plt.cm.binary)\n",
        "\n",
        "    predicted_label = np.argmax(predictions_array)\n",
        "    if predicted_label == true_label:\n",
        "        color = 'blue'\n",
        "    else:\n",
        "        color = 'red'\n",
        "\n",
        "    plt.xlabel(\"{} {:2.0f}% ({})\".format(class_names[predicted_label],\n",
        "                                100*np.max(predictions_array),\n",
        "                                class_names[true_label]),\n",
        "                                color=color)\n",
        "\n",
        "def plot_value_array(i, predictions_array, true_label):\n",
        "    predictions_array, true_label = predictions_array[i], true_label[i]\n",
        "    plt.grid(False)\n",
        "    #plt.xticks([])\n",
        "    plt.xticks(range(N_CLASS), class_names, rotation=90)\n",
        "    plt.yticks([])\n",
        "    thisplot = plt.bar(range(N_CLASS), predictions_array, color=\"#777777\")\n",
        "    plt.ylim([0, 1]) \n",
        "    predicted_label = np.argmax(predictions_array)\n",
        " \n",
        "    thisplot[predicted_label].set_color('red')\n",
        "    thisplot[true_label].set_color('blue')"
      ],
      "execution_count": null,
      "outputs": []
    },
    {
      "cell_type": "code",
      "metadata": {
        "id": "Y6hWkkbHYQfW",
        "colab": {
          "base_uri": "https://localhost:8080/",
          "height": 851
        },
        "outputId": "4220c658-b157-4aa8-b860-968c75afc3c9"
      },
      "source": [
        "rnd_idx = np.random.randint(1, N_TEST//N_BATCH)\n",
        "img_cnt = 0\n",
        "for images, labels in test_dataset:\n",
        "    img_cnt += 1\n",
        "    if img_cnt != rnd_idx:\n",
        "        continue\n",
        "    predictions = model(images, training=False)\n",
        "    num_rows = 5\n",
        "    num_cols = 3\n",
        "    num_images = num_rows*num_cols\n",
        "    labels = tf.argmax(labels, axis=-1)\n",
        "    plt.figure(figsize=(3*2*num_cols, 4*num_rows))\n",
        "    plt.subplots_adjust(hspace=1.0)\n",
        "    for i in range(num_images):\n",
        "        plt.subplot(num_rows, 2*num_cols, 2*i+1)\n",
        "        plot_image(i, predictions.numpy(), labels.numpy(), images.numpy())\n",
        "        plt.subplot(num_rows, 2*num_cols, 2*i+2)\n",
        "        plot_value_array(i, predictions.numpy(), labels.numpy())        \n",
        "    break"
      ],
      "execution_count": null,
      "outputs": [
        {
          "output_type": "display_data",
          "data": {
            "image/png": "[encoded data removed]",
            "text/plain": [
              "<Figure size 1296x1440 with 30 Axes>"
            ]
          },
          "metadata": {
            "tags": [],
            "needs_background": "light"
          }
        }
      ]
    },
    {
      "cell_type": "markdown",
      "metadata": {
        "id": "NWrM3J-XYUN-"
      },
      "source": [
        "## Weight 저장하고 불러오기"
      ]
    },
    {
      "cell_type": "code",
      "metadata": {
        "id": "u6j5YaxYYVJY"
      },
      "source": [
        "## Creating a checkpoint directory\n",
        "cur_dir = os.getcwd()\n",
        "ckpt_dir_name = 'checkpoints'\n",
        "model_dir_name = 'mnist_cnn_keras'\n",
        "ckpt_name = 'mnist_cnn_keras.ckpt'\n",
        "\n",
        "checkpoint_dir = os.path.join(cur_dir, ckpt_dir_name, model_dir_name)\n",
        "os.makedirs(checkpoint_dir, exist_ok=True)\n",
        "\n",
        "checkpoint_path = os.path.join(checkpoint_dir, ckpt_name)"
      ],
      "execution_count": null,
      "outputs": []
    },
    {
      "cell_type": "code",
      "metadata": {
        "id": "7xeCQLI4YZS0"
      },
      "source": [
        "## Saving weights\n",
        "model.save_weights(checkpoint_path)"
      ],
      "execution_count": null,
      "outputs": []
    },
    {
      "cell_type": "code",
      "metadata": {
        "id": "c5gSxKKGYbHd",
        "colab": {
          "base_uri": "https://localhost:8080/"
        },
        "outputId": "36278134-d598-429a-fb53-0b9ab86f1e0a"
      },
      "source": [
        "## 확인\n",
        "!ls 'checkpoints/mnist_cnn_keras'"
      ],
      "execution_count": null,
      "outputs": [
        {
          "output_type": "stream",
          "text": [
            "checkpoint\t\t\t\t  mnist_cnn_keras.ckpt.index\n",
            "mnist_cnn_keras.ckpt.data-00000-of-00001\n"
          ],
          "name": "stdout"
        }
      ]
    },
    {
      "cell_type": "code",
      "metadata": {
        "id": "J--yEKlvYc94",
        "colab": {
          "base_uri": "https://localhost:8080/"
        },
        "outputId": "8f204c56-6e2d-4b9b-8d3f-d49c139b7261"
      },
      "source": [
        "## Creating a new model\n",
        "new_model1 = create_model()\n",
        "new_model1.compile(optimizer=keras.optimizers.Adam(learning_rate),\n",
        "                 loss='categorical_crossentropy',\n",
        "                 metrics=['accuracy'])\n",
        "new_model1.summary()"
      ],
      "execution_count": null,
      "outputs": [
        {
          "output_type": "stream",
          "text": [
            "Model: \"sequential_3\"\n",
            "_________________________________________________________________\n",
            "Layer (type)                 Output Shape              Param #   \n",
            "=================================================================\n",
            "conv2d_3 (Conv2D)            (None, 28, 28, 32)        320       \n",
            "_________________________________________________________________\n",
            "max_pooling2d_3 (MaxPooling2 (None, 14, 14, 32)        0         \n",
            "_________________________________________________________________\n",
            "conv2d_4 (Conv2D)            (None, 14, 14, 64)        18496     \n",
            "_________________________________________________________________\n",
            "max_pooling2d_4 (MaxPooling2 (None, 7, 7, 64)          0         \n",
            "_________________________________________________________________\n",
            "conv2d_5 (Conv2D)            (None, 7, 7, 128)         73856     \n",
            "_________________________________________________________________\n",
            "max_pooling2d_5 (MaxPooling2 (None, 4, 4, 128)         0         \n",
            "_________________________________________________________________\n",
            "flatten_3 (Flatten)          (None, 2048)              0         \n",
            "_________________________________________________________________\n",
            "dense_8 (Dense)              (None, 256)               524544    \n",
            "_________________________________________________________________\n",
            "dropout_1 (Dropout)          (None, 256)               0         \n",
            "_________________________________________________________________\n",
            "dense_9 (Dense)              (None, 10)                2570      \n",
            "=================================================================\n",
            "Total params: 619,786\n",
            "Trainable params: 619,786\n",
            "Non-trainable params: 0\n",
            "_________________________________________________________________\n"
          ],
          "name": "stdout"
        }
      ]
    },
    {
      "cell_type": "code",
      "metadata": {
        "id": "xT3zU5nuYe9o",
        "colab": {
          "base_uri": "https://localhost:8080/"
        },
        "outputId": "5c193a47-fb84-48b9-c891-17284b089cf7"
      },
      "source": [
        "## 학습 전에 결과 확인\n",
        "new_model1.evaluate(test_dataset)"
      ],
      "execution_count": null,
      "outputs": [
        {
          "output_type": "stream",
          "text": [
            "100/100 [==============================] - 1s 4ms/step - loss: 2.3047 - accuracy: 0.1144\n"
          ],
          "name": "stdout"
        },
        {
          "output_type": "execute_result",
          "data": {
            "text/plain": [
              "[2.3055155277252197, 0.1006999984383583]"
            ]
          },
          "metadata": {
            "tags": []
          },
          "execution_count": 50
        }
      ]
    },
    {
      "cell_type": "code",
      "metadata": {
        "id": "bnr8unQyYiAu",
        "colab": {
          "base_uri": "https://localhost:8080/",
          "height": 748
        },
        "outputId": "7ccebedc-c1c9-4784-e734-f1e6823468d0"
      },
      "source": [
        "rnd_idx = np.random.randint(1, N_TEST//N_BATCH)\n",
        "img_cnt = 0\n",
        "for images, labels in test_dataset:\n",
        "    img_cnt += 1\n",
        "    if img_cnt != rnd_idx:\n",
        "        continue\n",
        "    predictions = new_model1(images, training=False)\n",
        "    num_rows = 5\n",
        "    num_cols = 3\n",
        "    num_images = num_rows*num_cols\n",
        "    labels = tf.argmax(labels, axis=-1)\n",
        "    plt.figure(figsize=(3*2*num_cols, 4*num_rows))\n",
        "    plt.subplots_adjust(hspace=1.0)\n",
        "    for i in range(num_images):\n",
        "        plt.subplot(num_rows, 2*num_cols, 2*i+1)\n",
        "        plot_image(i, predictions.numpy(), labels.numpy(), images.numpy())\n",
        "        plt.subplot(num_rows, 2*num_cols, 2*i+2)\n",
        "        plot_value_array(i, predictions.numpy(), labels.numpy())        \n",
        "    break"
      ],
      "execution_count": null,
      "outputs": [
        {
          "output_type": "display_data",
          "data": {
            "image/png": "[encoded data removed]",
            "text/plain": [
              "<Figure size 1296x1440 with 30 Axes>"
            ]
          },
          "metadata": {
            "tags": [],
            "needs_background": "light"
          }
        }
      ]
    },
    {
      "cell_type": "code",
      "metadata": {
        "id": "iochgUhSYkq1",
        "colab": {
          "base_uri": "https://localhost:8080/"
        },
        "outputId": "f31086b3-4f5d-45af-ec5d-2a0ad980308b"
      },
      "source": [
        "## Restore weights\n",
        "new_model1.load_weights(checkpoint_path)"
      ],
      "execution_count": null,
      "outputs": [
        {
          "output_type": "execute_result",
          "data": {
            "text/plain": [
              "<tensorflow.python.training.tracking.util.CheckpointLoadStatus at 0x7fee46f9a3d0>"
            ]
          },
          "metadata": {
            "tags": []
          },
          "execution_count": 54
        }
      ]
    },
    {
      "cell_type": "code",
      "metadata": {
        "id": "eicP8VyQYmfa",
        "colab": {
          "base_uri": "https://localhost:8080/"
        },
        "outputId": "cec6befa-abc8-45a7-8110-b67267d38257"
      },
      "source": [
        "## 결과 확인\n",
        "new_model1.evaluate(test_dataset)"
      ],
      "execution_count": null,
      "outputs": [
        {
          "output_type": "stream",
          "text": [
            "100/100 [==============================] - 0s 4ms/step - loss: 0.0337 - accuracy: 0.9930\n"
          ],
          "name": "stdout"
        },
        {
          "output_type": "execute_result",
          "data": {
            "text/plain": [
              "[0.03365772217512131, 0.9929999709129333]"
            ]
          },
          "metadata": {
            "tags": []
          },
          "execution_count": 55
        }
      ]
    },
    {
      "cell_type": "code",
      "metadata": {
        "id": "HfSfa6rgYpLc",
        "colab": {
          "base_uri": "https://localhost:8080/",
          "height": 748
        },
        "outputId": "c576aedc-fab0-4c70-ade6-c9838d273edb"
      },
      "source": [
        "rnd_idx = np.random.randint(1, N_TEST//N_BATCH)\n",
        "img_cnt = 0\n",
        "for images, labels in test_dataset:\n",
        "    img_cnt += 1\n",
        "    if img_cnt != rnd_idx:\n",
        "        continue\n",
        "    predictions = new_model1(images, training=False)\n",
        "    num_rows = 5\n",
        "    num_cols = 3\n",
        "    num_images = num_rows*num_cols\n",
        "    labels = tf.argmax(labels, axis=-1)\n",
        "    plt.figure(figsize=(3*2*num_cols, 4*num_rows))\n",
        "    plt.subplots_adjust(hspace=1.0)\n",
        "    for i in range(num_images):\n",
        "        plt.subplot(num_rows, 2*num_cols, 2*i+1)\n",
        "        plot_image(i, predictions.numpy(), labels.numpy(), images.numpy())\n",
        "        plt.subplot(num_rows, 2*num_cols, 2*i+2)\n",
        "        plot_value_array(i, predictions.numpy(), labels.numpy())        \n",
        "    break"
      ],
      "execution_count": null,
      "outputs": [
        {
          "output_type": "display_data",
          "data": {
            "image/png": "[encoded data removed]",
            "text/plain": [
              "<Figure size 1296x1440 with 30 Axes>"
            ]
          },
          "metadata": {
            "tags": [],
            "needs_background": "light"
          }
        }
      ]
    },
    {
      "cell_type": "markdown",
      "metadata": {
        "id": "CzUhljXAYttS"
      },
      "source": [
        "## Callback 사용하여 저장하기"
      ]
    },
    {
      "cell_type": "code",
      "metadata": {
        "id": "zr50JJaaYuaR",
        "colab": {
          "base_uri": "https://localhost:8080/"
        },
        "outputId": "180f028e-20fb-43a2-c8b6-9067d46072d8"
      },
      "source": [
        "## 새로운 model 생성\n",
        "model = create_model()\n",
        "\n",
        "## model compile\n",
        "model.compile(optimizer=keras.optimizers.Adam(learning_rate),\n",
        "                 loss='categorical_crossentropy',\n",
        "                 metrics=['accuracy'])\n",
        "model.summary()"
      ],
      "execution_count": null,
      "outputs": [
        {
          "output_type": "stream",
          "text": [
            "Model: \"sequential_4\"\n",
            "_________________________________________________________________\n",
            "Layer (type)                 Output Shape              Param #   \n",
            "=================================================================\n",
            "conv2d_6 (Conv2D)            (None, 28, 28, 32)        320       \n",
            "_________________________________________________________________\n",
            "max_pooling2d_6 (MaxPooling2 (None, 14, 14, 32)        0         \n",
            "_________________________________________________________________\n",
            "conv2d_7 (Conv2D)            (None, 14, 14, 64)        18496     \n",
            "_________________________________________________________________\n",
            "max_pooling2d_7 (MaxPooling2 (None, 7, 7, 64)          0         \n",
            "_________________________________________________________________\n",
            "conv2d_8 (Conv2D)            (None, 7, 7, 128)         73856     \n",
            "_________________________________________________________________\n",
            "max_pooling2d_8 (MaxPooling2 (None, 4, 4, 128)         0         \n",
            "_________________________________________________________________\n",
            "flatten_4 (Flatten)          (None, 2048)              0         \n",
            "_________________________________________________________________\n",
            "dense_10 (Dense)             (None, 256)               524544    \n",
            "_________________________________________________________________\n",
            "dropout_2 (Dropout)          (None, 256)               0         \n",
            "_________________________________________________________________\n",
            "dense_11 (Dense)             (None, 10)                2570      \n",
            "=================================================================\n",
            "Total params: 619,786\n",
            "Trainable params: 619,786\n",
            "Non-trainable params: 0\n",
            "_________________________________________________________________\n"
          ],
          "name": "stdout"
        }
      ]
    },
    {
      "cell_type": "code",
      "metadata": {
        "id": "FtKnTBLBYzKD",
        "colab": {
          "base_uri": "https://localhost:8080/"
        },
        "outputId": "7f4f22be-5a78-47ce-97ec-e4e213e6d1d3"
      },
      "source": [
        "## 학습 전에 결과 확인\n",
        "model.evaluate(test_dataset)"
      ],
      "execution_count": null,
      "outputs": [
        {
          "output_type": "stream",
          "text": [
            "100/100 [==============================] - 1s 4ms/step - loss: 2.3057 - accuracy: 0.1007\n"
          ],
          "name": "stdout"
        },
        {
          "output_type": "execute_result",
          "data": {
            "text/plain": [
              "[2.306016683578491, 0.10090000182390213]"
            ]
          },
          "metadata": {
            "tags": []
          },
          "execution_count": 58
        }
      ]
    },
    {
      "cell_type": "code",
      "metadata": {
        "id": "uMq7SN5AY1qo",
        "colab": {
          "base_uri": "https://localhost:8080/"
        },
        "outputId": "23881970-adce-4f7e-fb1c-1064343281a7"
      },
      "source": [
        "ckpt_name = 'mnist_cnn_{epoch:04d}.ckpt'\n",
        "checkpoint_path = os.path.join(checkpoint_dir, ckpt_name)\n",
        "\n",
        "# callback 만들기\n",
        "cp_callback = keras.callbacks.ModelCheckpoint(filepath=checkpoint_path,\n",
        "                                              save_weights_only=True)\n",
        "\n",
        "## Training\n",
        "history = model.fit(train_dataset, epochs=N_EPOCHS, steps_per_epoch=steps_per_epoch, \n",
        "                    validation_data=test_dataset, validation_steps=validation_steps,\n",
        "                    callbacks=[cp_callback])"
      ],
      "execution_count": null,
      "outputs": [
        {
          "output_type": "stream",
          "text": [
            "Epoch 1/20\n",
            "600/600 [==============================] - 4s 6ms/step - loss: 0.2013 - accuracy: 0.9360 - val_loss: 0.0415 - val_accuracy: 0.9862\n",
            "Epoch 2/20\n",
            "600/600 [==============================] - 4s 6ms/step - loss: 0.0545 - accuracy: 0.9839 - val_loss: 0.0307 - val_accuracy: 0.9887\n",
            "Epoch 3/20\n",
            "600/600 [==============================] - 4s 6ms/step - loss: 0.0400 - accuracy: 0.9877 - val_loss: 0.0265 - val_accuracy: 0.9908\n",
            "Epoch 4/20\n",
            "600/600 [==============================] - 3s 6ms/step - loss: 0.0289 - accuracy: 0.9911 - val_loss: 0.0298 - val_accuracy: 0.9898\n",
            "Epoch 5/20\n",
            "600/600 [==============================] - 4s 6ms/step - loss: 0.0238 - accuracy: 0.9924 - val_loss: 0.0254 - val_accuracy: 0.9911\n",
            "Epoch 6/20\n",
            "600/600 [==============================] - 3s 6ms/step - loss: 0.0214 - accuracy: 0.9934 - val_loss: 0.0240 - val_accuracy: 0.9916\n",
            "Epoch 7/20\n",
            "600/600 [==============================] - 4s 6ms/step - loss: 0.0172 - accuracy: 0.9945 - val_loss: 0.0211 - val_accuracy: 0.9930\n",
            "Epoch 8/20\n",
            "600/600 [==============================] - 4s 6ms/step - loss: 0.0146 - accuracy: 0.9953 - val_loss: 0.0231 - val_accuracy: 0.9936\n",
            "Epoch 9/20\n",
            "600/600 [==============================] - 3s 6ms/step - loss: 0.0134 - accuracy: 0.9955 - val_loss: 0.0235 - val_accuracy: 0.9924\n",
            "Epoch 10/20\n",
            "600/600 [==============================] - 4s 6ms/step - loss: 0.0119 - accuracy: 0.9963 - val_loss: 0.0336 - val_accuracy: 0.9897\n",
            "Epoch 11/20\n",
            "600/600 [==============================] - 4s 6ms/step - loss: 0.0113 - accuracy: 0.9963 - val_loss: 0.0317 - val_accuracy: 0.9910\n",
            "Epoch 12/20\n",
            "600/600 [==============================] - 4s 6ms/step - loss: 0.0092 - accuracy: 0.9968 - val_loss: 0.0292 - val_accuracy: 0.9922\n",
            "Epoch 13/20\n",
            "600/600 [==============================] - 3s 6ms/step - loss: 0.0070 - accuracy: 0.9976 - val_loss: 0.0402 - val_accuracy: 0.9899\n",
            "Epoch 14/20\n",
            "600/600 [==============================] - 3s 6ms/step - loss: 0.0103 - accuracy: 0.9966 - val_loss: 0.0225 - val_accuracy: 0.9934\n",
            "Epoch 15/20\n",
            "600/600 [==============================] - 3s 6ms/step - loss: 0.0065 - accuracy: 0.9978 - val_loss: 0.0214 - val_accuracy: 0.9937\n",
            "Epoch 16/20\n",
            "600/600 [==============================] - 4s 6ms/step - loss: 0.0073 - accuracy: 0.9976 - val_loss: 0.0248 - val_accuracy: 0.9931\n",
            "Epoch 17/20\n",
            "600/600 [==============================] - 3s 6ms/step - loss: 0.0057 - accuracy: 0.9980 - val_loss: 0.0363 - val_accuracy: 0.9923\n",
            "Epoch 18/20\n",
            "600/600 [==============================] - 4s 6ms/step - loss: 0.0063 - accuracy: 0.9980 - val_loss: 0.0220 - val_accuracy: 0.9945\n",
            "Epoch 19/20\n",
            "600/600 [==============================] - 4s 6ms/step - loss: 0.0070 - accuracy: 0.9977 - val_loss: 0.0226 - val_accuracy: 0.9939\n",
            "Epoch 20/20\n",
            "600/600 [==============================] - 4s 6ms/step - loss: 0.0047 - accuracy: 0.9983 - val_loss: 0.0264 - val_accuracy: 0.9933\n"
          ],
          "name": "stdout"
        }
      ]
    },
    {
      "cell_type": "code",
      "metadata": {
        "id": "5ZUJG9mpY4qF",
        "colab": {
          "base_uri": "https://localhost:8080/"
        },
        "outputId": "00fea029-c04a-40a7-90d7-93101c0e97b8"
      },
      "source": [
        "## checkpoint 확인\n",
        "!ls 'checkpoints/mnist_cnn_keras'"
      ],
      "execution_count": null,
      "outputs": [
        {
          "output_type": "stream",
          "text": [
            "checkpoint\n",
            "mnist_cnn_0001.ckpt.data-00000-of-00001\n",
            "mnist_cnn_0001.ckpt.index\n",
            "mnist_cnn_0002.ckpt.data-00000-of-00001\n",
            "mnist_cnn_0002.ckpt.index\n",
            "mnist_cnn_0003.ckpt.data-00000-of-00001\n",
            "mnist_cnn_0003.ckpt.index\n",
            "mnist_cnn_0004.ckpt.data-00000-of-00001\n",
            "mnist_cnn_0004.ckpt.index\n",
            "mnist_cnn_0005.ckpt.data-00000-of-00001\n",
            "mnist_cnn_0005.ckpt.index\n",
            "mnist_cnn_0006.ckpt.data-00000-of-00001\n",
            "mnist_cnn_0006.ckpt.index\n",
            "mnist_cnn_0007.ckpt.data-00000-of-00001\n",
            "mnist_cnn_0007.ckpt.index\n",
            "mnist_cnn_0008.ckpt.data-00000-of-00001\n",
            "mnist_cnn_0008.ckpt.index\n",
            "mnist_cnn_0009.ckpt.data-00000-of-00001\n",
            "mnist_cnn_0009.ckpt.index\n",
            "mnist_cnn_0010.ckpt.data-00000-of-00001\n",
            "mnist_cnn_0010.ckpt.index\n",
            "mnist_cnn_0011.ckpt.data-00000-of-00001\n",
            "mnist_cnn_0011.ckpt.index\n",
            "mnist_cnn_0012.ckpt.data-00000-of-00001\n",
            "mnist_cnn_0012.ckpt.index\n",
            "mnist_cnn_0013.ckpt.data-00000-of-00001\n",
            "mnist_cnn_0013.ckpt.index\n",
            "mnist_cnn_0014.ckpt.data-00000-of-00001\n",
            "mnist_cnn_0014.ckpt.index\n",
            "mnist_cnn_0015.ckpt.data-00000-of-00001\n",
            "mnist_cnn_0015.ckpt.index\n",
            "mnist_cnn_0016.ckpt.data-00000-of-00001\n",
            "mnist_cnn_0016.ckpt.index\n",
            "mnist_cnn_0017.ckpt.data-00000-of-00001\n",
            "mnist_cnn_0017.ckpt.index\n",
            "mnist_cnn_0018.ckpt.data-00000-of-00001\n",
            "mnist_cnn_0018.ckpt.index\n",
            "mnist_cnn_0019.ckpt.data-00000-of-00001\n",
            "mnist_cnn_0019.ckpt.index\n",
            "mnist_cnn_0020.ckpt.data-00000-of-00001\n",
            "mnist_cnn_0020.ckpt.index\n",
            "mnist_cnn_keras.ckpt.data-00000-of-00001\n",
            "mnist_cnn_keras.ckpt.index\n"
          ],
          "name": "stdout"
        }
      ]
    },
    {
      "cell_type": "code",
      "metadata": {
        "id": "2H9VNrflY9gX"
      },
      "source": [
        "## 마지막으로 저장된 checkpoint 불러오기\n",
        "latest = tf.train.latest_checkpoint(checkpoint_dir)\n",
        "latest\n",
        "mid = \"/content/checkpoints/mnist_cnn_keras/mnist_cnn_0015.ckpt\""
      ],
      "execution_count": null,
      "outputs": []
    },
    {
      "cell_type": "code",
      "metadata": {
        "id": "IH6mMAIfZAM7",
        "colab": {
          "base_uri": "https://localhost:8080/"
        },
        "outputId": "16b346ce-7389-41fc-f7ec-0ec66313753c"
      },
      "source": [
        "# Create a new model instance\n",
        "new_model2 = create_model()\n",
        "new_model2.compile(optimizer=keras.optimizers.Adam(learning_rate),\n",
        "                 loss='categorical_crossentropy',\n",
        "                 metrics=['accuracy'])\n",
        "# Before loading weights\n",
        "new_model2.evaluate(test_dataset)\n",
        "\n",
        "# Load the previously saved weights\n",
        "new_model2.load_weights(latest)\n",
        "#new_model2.load_weights(mid) # 중간에 있는 체크포인트를 불러보자\n",
        "# Re-evaluate the model\n",
        "new_model2.evaluate(test_dataset)"
      ],
      "execution_count": null,
      "outputs": [
        {
          "output_type": "stream",
          "text": [
            "100/100 [==============================] - 1s 4ms/step - loss: 2.3003 - accuracy: 0.1473\n",
            "100/100 [==============================] - 0s 4ms/step - loss: 0.0264 - accuracy: 0.9933\n"
          ],
          "name": "stdout"
        },
        {
          "output_type": "execute_result",
          "data": {
            "text/plain": [
              "[0.0263553187251091, 0.9933000206947327]"
            ]
          },
          "metadata": {
            "tags": []
          },
          "execution_count": 62
        }
      ]
    },
    {
      "cell_type": "markdown",
      "metadata": {
        "id": "FUH_9fU6ZC9L"
      },
      "source": [
        "## 전체 model 저장하고 불러오기"
      ]
    },
    {
      "cell_type": "code",
      "metadata": {
        "id": "GLljjqrlZDT7",
        "colab": {
          "base_uri": "https://localhost:8080/",
          "height": 36
        },
        "outputId": "e1a17575-9a72-46e3-99b3-8e6fba91962e"
      },
      "source": [
        "## HDF5 format으로 전체 model 저장하기\n",
        "save_dir_name = 'saved_models'\n",
        "os.makedirs(save_dir_name, exist_ok=True)\n",
        "hdf5_model_path = os.path.join(cur_dir, save_dir_name, 'my_model.h5')\n",
        "hdf5_model_path"
      ],
      "execution_count": null,
      "outputs": [
        {
          "output_type": "execute_result",
          "data": {
            "application/vnd.google.colaboratory.intrinsic+json": {
              "type": "string"
            },
            "text/plain": [
              "'/content/saved_models/my_model.h5'"
            ]
          },
          "metadata": {
            "tags": []
          },
          "execution_count": 63
        }
      ]
    },
    {
      "cell_type": "code",
      "metadata": {
        "id": "hrt-E5NeZHIu"
      },
      "source": [
        "## 저장\n",
        "model.save(hdf5_model_path)"
      ],
      "execution_count": null,
      "outputs": []
    },
    {
      "cell_type": "code",
      "metadata": {
        "id": "8jf5eZMdZJR-",
        "colab": {
          "base_uri": "https://localhost:8080/"
        },
        "outputId": "4aaf2b55-04a7-43ce-ad50-6de5c270606c"
      },
      "source": [
        "## 확인\n",
        "!ls saved_models"
      ],
      "execution_count": null,
      "outputs": [
        {
          "output_type": "stream",
          "text": [
            "my_model.h5\n"
          ],
          "name": "stdout"
        }
      ]
    },
    {
      "cell_type": "code",
      "metadata": {
        "id": "7yJaCqcbZLSo",
        "colab": {
          "base_uri": "https://localhost:8080/"
        },
        "outputId": "3cd4e807-87af-4ce3-dcb6-99a2d36c6980"
      },
      "source": [
        "## 불러오기\n",
        "new_model3 = keras.models.load_model(hdf5_model_path)\n",
        "\n",
        "new_model3.summary()"
      ],
      "execution_count": null,
      "outputs": [
        {
          "output_type": "stream",
          "text": [
            "Model: \"sequential_4\"\n",
            "_________________________________________________________________\n",
            "Layer (type)                 Output Shape              Param #   \n",
            "=================================================================\n",
            "conv2d_6 (Conv2D)            (None, 28, 28, 32)        320       \n",
            "_________________________________________________________________\n",
            "max_pooling2d_6 (MaxPooling2 (None, 14, 14, 32)        0         \n",
            "_________________________________________________________________\n",
            "conv2d_7 (Conv2D)            (None, 14, 14, 64)        18496     \n",
            "_________________________________________________________________\n",
            "max_pooling2d_7 (MaxPooling2 (None, 7, 7, 64)          0         \n",
            "_________________________________________________________________\n",
            "conv2d_8 (Conv2D)            (None, 7, 7, 128)         73856     \n",
            "_________________________________________________________________\n",
            "max_pooling2d_8 (MaxPooling2 (None, 4, 4, 128)         0         \n",
            "_________________________________________________________________\n",
            "flatten_4 (Flatten)          (None, 2048)              0         \n",
            "_________________________________________________________________\n",
            "dense_10 (Dense)             (None, 256)               524544    \n",
            "_________________________________________________________________\n",
            "dropout_2 (Dropout)          (None, 256)               0         \n",
            "_________________________________________________________________\n",
            "dense_11 (Dense)             (None, 10)                2570      \n",
            "=================================================================\n",
            "Total params: 619,786\n",
            "Trainable params: 619,786\n",
            "Non-trainable params: 0\n",
            "_________________________________________________________________\n"
          ],
          "name": "stdout"
        }
      ]
    },
    {
      "cell_type": "code",
      "metadata": {
        "id": "wyMvfegsZNZ1",
        "colab": {
          "base_uri": "https://localhost:8080/"
        },
        "outputId": "dbbe9ec2-ed73-40d4-a759-31937a3957d3"
      },
      "source": [
        "## 결과 확인\n",
        "new_model3.evaluate(test_dataset)"
      ],
      "execution_count": null,
      "outputs": [
        {
          "output_type": "stream",
          "text": [
            "100/100 [==============================] - 1s 4ms/step - loss: 0.0264 - accuracy: 0.9933\n"
          ],
          "name": "stdout"
        },
        {
          "output_type": "execute_result",
          "data": {
            "text/plain": [
              "[0.0263553187251091, 0.9933000206947327]"
            ]
          },
          "metadata": {
            "tags": []
          },
          "execution_count": 67
        }
      ]
    },
    {
      "cell_type": "code",
      "metadata": {
        "id": "_61UpwSiZPRU",
        "colab": {
          "base_uri": "https://localhost:8080/"
        },
        "outputId": "55562bfa-c477-4161-dddf-d42cc6c52b34"
      },
      "source": [
        "## saved_model format으로 전체 model 저장하기\n",
        "saved_model_path = os.path.join(cur_dir, save_dir_name, 'my_model')\n",
        "\n",
        "model.save(saved_model_path)"
      ],
      "execution_count": null,
      "outputs": [
        {
          "output_type": "stream",
          "text": [
            "INFO:tensorflow:Assets written to: /content/saved_models/my_model/assets\n"
          ],
          "name": "stdout"
        }
      ]
    },
    {
      "cell_type": "code",
      "metadata": {
        "id": "KWtYdnWCZRVS",
        "colab": {
          "base_uri": "https://localhost:8080/"
        },
        "outputId": "95f97154-f726-4e9a-feb8-794adf63f7b9"
      },
      "source": [
        "## 확인\n",
        "!ls 'saved_models/my_model'"
      ],
      "execution_count": null,
      "outputs": [
        {
          "output_type": "stream",
          "text": [
            "assets\tsaved_model.pb\tvariables\n"
          ],
          "name": "stdout"
        }
      ]
    },
    {
      "cell_type": "code",
      "metadata": {
        "id": "ArG5HV5iZTI2"
      },
      "source": [
        "## 불러오기\n",
        "new_model4 = keras.models.load_model(saved_model_path)"
      ],
      "execution_count": null,
      "outputs": []
    },
    {
      "cell_type": "code",
      "metadata": {
        "id": "JSttF9pIZU7K",
        "colab": {
          "base_uri": "https://localhost:8080/"
        },
        "outputId": "9a014ec9-07ce-4772-bbb3-445ca1ef9526"
      },
      "source": [
        "## 결과 확인\n",
        "new_model4.evaluate(test_dataset)"
      ],
      "execution_count": null,
      "outputs": [
        {
          "output_type": "stream",
          "text": [
            "100/100 [==============================] - 1s 4ms/step - loss: 0.0264 - accuracy: 0.9933\n"
          ],
          "name": "stdout"
        },
        {
          "output_type": "execute_result",
          "data": {
            "text/plain": [
              "[0.0263553187251091, 0.9933000206947327]"
            ]
          },
          "metadata": {
            "tags": []
          },
          "execution_count": 72
        }
      ]
    },
    {
      "cell_type": "markdown",
      "metadata": {
        "id": "5P3l_tmCZXRz"
      },
      "source": [
        "## Functional API"
      ]
    },
    {
      "cell_type": "code",
      "metadata": {
        "id": "JnVCb3x7ZXwG"
      },
      "source": [
        "# Functional API를 사용하여 model 구성  입력, 출력을 기술해준다. 복잡한 모델도 만들 수 있다.\n",
        "def create_model():\n",
        "    inputs = keras.Input(shape=(28, 28, 1)) #입력도 만들어야 한다. \n",
        "    # 클래스에 대한 인스턴스를 만든다. __init__가 호출됨.\n",
        "    # keras.layers.Conv2D(filters=32, kernel_size=[3, 3], padding='SAME', activation='relu')\n",
        "    # 만든 인스턴스에 inputs를 넣어서 호출한다. __call__이 호출됨.\n",
        "    # keras.layers.Conv2D(filters=32, kernel_size=[3, 3], padding='SAME', activation='relu')(inputs)\n",
        "    \n",
        "    conv1 = keras.layers.Conv2D(filters=32, kernel_size=[3, 3], padding='SAME', activation='relu')(inputs)\n",
        "    pool1 = keras.layers.MaxPool2D(padding='SAME')(conv1)\n",
        "    conv2 = keras.layers.Conv2D(filters=64, kernel_size=[3, 3], padding='SAME', activation='relu')(pool1)\n",
        "    pool2 = keras.layers.MaxPool2D(padding='SAME')(conv2)\n",
        "    conv3 = keras.layers.Conv2D(filters=128, kernel_size=[3, 3], padding='SAME', activation='relu')(pool2)\n",
        "    pool3 = keras.layers.MaxPool2D(padding='SAME')(conv3)\n",
        "    pool3_flat = keras.layers.Flatten()(pool3)\n",
        "    dense4 = keras.layers.Dense(units=256, activation='relu')(pool3_flat)\n",
        "    drop4 = keras.layers.Dropout(rate=0.4)(dense4)\n",
        "    logits = keras.layers.Dense(units=10, activation='softmax')(drop4)\n",
        "    return keras.Model(inputs=inputs, outputs=logits)"
      ],
      "execution_count": null,
      "outputs": []
    },
    {
      "cell_type": "code",
      "metadata": {
        "id": "wKOJMkPMZdbO",
        "colab": {
          "base_uri": "https://localhost:8080/"
        },
        "outputId": "c10ddf7f-e81c-4b79-da82-43ebf0fdc86d"
      },
      "source": [
        "## Create model, compile & summary\n",
        "model = create_model()\n",
        "model.compile(optimizer=tf.keras.optimizers.Adam(learning_rate),\n",
        "              loss='categorical_crossentropy',\n",
        "              metrics=['accuracy'])\n",
        "model.summary()"
      ],
      "execution_count": null,
      "outputs": [
        {
          "output_type": "stream",
          "text": [
            "Model: \"model\"\n",
            "_________________________________________________________________\n",
            "Layer (type)                 Output Shape              Param #   \n",
            "=================================================================\n",
            "input_1 (InputLayer)         [(None, 28, 28, 1)]       0         \n",
            "_________________________________________________________________\n",
            "conv2d_12 (Conv2D)           (None, 28, 28, 32)        320       \n",
            "_________________________________________________________________\n",
            "max_pooling2d_12 (MaxPooling (None, 14, 14, 32)        0         \n",
            "_________________________________________________________________\n",
            "conv2d_13 (Conv2D)           (None, 14, 14, 64)        18496     \n",
            "_________________________________________________________________\n",
            "max_pooling2d_13 (MaxPooling (None, 7, 7, 64)          0         \n",
            "_________________________________________________________________\n",
            "conv2d_14 (Conv2D)           (None, 7, 7, 128)         73856     \n",
            "_________________________________________________________________\n",
            "max_pooling2d_14 (MaxPooling (None, 4, 4, 128)         0         \n",
            "_________________________________________________________________\n",
            "flatten_4 (Flatten)          (None, 2048)              0         \n",
            "_________________________________________________________________\n",
            "dense_8 (Dense)              (None, 256)               524544    \n",
            "_________________________________________________________________\n",
            "dropout_4 (Dropout)          (None, 256)               0         \n",
            "_________________________________________________________________\n",
            "dense_9 (Dense)              (None, 10)                2570      \n",
            "=================================================================\n",
            "Total params: 619,786\n",
            "Trainable params: 619,786\n",
            "Non-trainable params: 0\n",
            "_________________________________________________________________\n"
          ],
          "name": "stdout"
        }
      ]
    },
    {
      "cell_type": "code",
      "metadata": {
        "id": "5CMgx6SDZfuR",
        "colab": {
          "base_uri": "https://localhost:8080/"
        },
        "outputId": "c711310f-e67b-44d8-8b61-c57941513ebd"
      },
      "source": [
        "## 학습 전에 결과 확인\n",
        "model.evaluate(test_dataset)"
      ],
      "execution_count": null,
      "outputs": [
        {
          "output_type": "stream",
          "text": [
            "100/100 [==============================] - 1s 4ms/step - loss: 2.3086 - accuracy: 0.1143\n"
          ],
          "name": "stdout"
        },
        {
          "output_type": "execute_result",
          "data": {
            "text/plain": [
              "[2.3087854385375977, 0.11640000343322754]"
            ]
          },
          "metadata": {
            "tags": []
          },
          "execution_count": 44
        }
      ]
    },
    {
      "cell_type": "code",
      "metadata": {
        "id": "dyujmlJ6ZiGO",
        "colab": {
          "base_uri": "https://localhost:8080/"
        },
        "outputId": "9280ef51-7350-4593-e4f7-638a598ca418"
      },
      "source": [
        "## Training\n",
        "history = model.fit(train_dataset, epochs=N_EPOCHS, steps_per_epoch=steps_per_epoch, \n",
        "                    validation_data=test_dataset, validation_steps=validation_steps)"
      ],
      "execution_count": null,
      "outputs": [
        {
          "output_type": "stream",
          "text": [
            "Epoch 1/20\n",
            "600/600 [==============================] - 4s 6ms/step - loss: 0.2077 - accuracy: 0.9334 - val_loss: 0.0563 - val_accuracy: 0.9805\n",
            "Epoch 2/20\n",
            "600/600 [==============================] - 4s 6ms/step - loss: 0.0586 - accuracy: 0.9819 - val_loss: 0.0358 - val_accuracy: 0.9886\n",
            "Epoch 3/20\n",
            "600/600 [==============================] - 4s 6ms/step - loss: 0.0425 - accuracy: 0.9869 - val_loss: 0.0258 - val_accuracy: 0.9917\n",
            "Epoch 4/20\n",
            "600/600 [==============================] - 4s 6ms/step - loss: 0.0326 - accuracy: 0.9898 - val_loss: 0.0275 - val_accuracy: 0.9916\n",
            "Epoch 5/20\n",
            "600/600 [==============================] - 4s 6ms/step - loss: 0.0269 - accuracy: 0.9916 - val_loss: 0.0256 - val_accuracy: 0.9920\n",
            "Epoch 6/20\n",
            "600/600 [==============================] - 4s 6ms/step - loss: 0.0222 - accuracy: 0.9931 - val_loss: 0.0295 - val_accuracy: 0.9899\n",
            "Epoch 7/20\n",
            "600/600 [==============================] - 4s 6ms/step - loss: 0.0194 - accuracy: 0.9937 - val_loss: 0.0277 - val_accuracy: 0.9911\n",
            "Epoch 8/20\n",
            "600/600 [==============================] - 4s 6ms/step - loss: 0.0166 - accuracy: 0.9949 - val_loss: 0.0201 - val_accuracy: 0.9936\n",
            "Epoch 9/20\n",
            "600/600 [==============================] - 4s 6ms/step - loss: 0.0157 - accuracy: 0.9949 - val_loss: 0.0259 - val_accuracy: 0.9923\n",
            "Epoch 10/20\n",
            "600/600 [==============================] - 4s 6ms/step - loss: 0.0128 - accuracy: 0.9958 - val_loss: 0.0232 - val_accuracy: 0.9935\n",
            "Epoch 11/20\n",
            "600/600 [==============================] - 4s 6ms/step - loss: 0.0119 - accuracy: 0.9963 - val_loss: 0.0327 - val_accuracy: 0.9893\n",
            "Epoch 12/20\n",
            "600/600 [==============================] - 4s 6ms/step - loss: 0.0109 - accuracy: 0.9964 - val_loss: 0.0251 - val_accuracy: 0.9938\n",
            "Epoch 13/20\n",
            "600/600 [==============================] - 4s 6ms/step - loss: 0.0099 - accuracy: 0.9966 - val_loss: 0.0282 - val_accuracy: 0.9921\n",
            "Epoch 14/20\n",
            "600/600 [==============================] - 4s 6ms/step - loss: 0.0093 - accuracy: 0.9969 - val_loss: 0.0206 - val_accuracy: 0.9937\n",
            "Epoch 15/20\n",
            "600/600 [==============================] - 4s 6ms/step - loss: 0.0076 - accuracy: 0.9973 - val_loss: 0.0271 - val_accuracy: 0.9933\n",
            "Epoch 16/20\n",
            "600/600 [==============================] - 4s 6ms/step - loss: 0.0065 - accuracy: 0.9978 - val_loss: 0.0305 - val_accuracy: 0.9919\n",
            "Epoch 17/20\n",
            "600/600 [==============================] - 4s 6ms/step - loss: 0.0077 - accuracy: 0.9973 - val_loss: 0.0265 - val_accuracy: 0.9940\n",
            "Epoch 18/20\n",
            "600/600 [==============================] - 4s 6ms/step - loss: 0.0072 - accuracy: 0.9977 - val_loss: 0.0290 - val_accuracy: 0.9932\n",
            "Epoch 19/20\n",
            "600/600 [==============================] - 4s 6ms/step - loss: 0.0080 - accuracy: 0.9973 - val_loss: 0.0289 - val_accuracy: 0.9929\n",
            "Epoch 20/20\n",
            "600/600 [==============================] - 4s 6ms/step - loss: 0.0052 - accuracy: 0.9983 - val_loss: 0.0249 - val_accuracy: 0.9950\n"
          ],
          "name": "stdout"
        }
      ]
    },
    {
      "cell_type": "code",
      "metadata": {
        "id": "y3gBY3tYZlT6"
      },
      "source": [
        "## model 저장하고 불러오기\n",
        "## HDF5 format\n",
        "saved_model_path = os.path.join(cur_dir, save_dir_name, 'mnist_cnn_func.h5')\n",
        "model.save(saved_model_path)\n",
        "!ls saved_models"
      ],
      "execution_count": null,
      "outputs": []
    },
    {
      "cell_type": "code",
      "metadata": {
        "id": "CWxEOYMSZnfX"
      },
      "source": [
        "new_model5 = keras.models.load_model(saved_model_path)\n",
        "new_model5.evaluate(test_dataset)"
      ],
      "execution_count": null,
      "outputs": []
    },
    {
      "cell_type": "code",
      "metadata": {
        "id": "Ch4BtMinZpl5"
      },
      "source": [
        "## saved_model format\n",
        "saved_model_path = os.path.join(cur_dir, save_dir_name, 'mnist_cnn_func_pb')\n",
        "model.save(saved_model_path)\n",
        "!ls -l saved_models/mnist_cnn_func_pb"
      ],
      "execution_count": null,
      "outputs": []
    },
    {
      "cell_type": "code",
      "metadata": {
        "id": "ndAcF8o4Zrpt"
      },
      "source": [
        "new_model6 = keras.models.load_model(saved_model_path)\n",
        "new_model6.evaluate(test_dataset)"
      ],
      "execution_count": null,
      "outputs": []
    },
    {
      "cell_type": "markdown",
      "metadata": {
        "id": "Oii_TsA4Zx66"
      },
      "source": [
        "# Custom Model - Subclassing"
      ]
    },
    {
      "cell_type": "code",
      "metadata": {
        "id": "wN7paem9ZyT9"
      },
      "source": [
        "class MyModel(keras.Model):\n",
        "  def __init__(self):\n",
        "    super(MyModel, self).__init__()    \n",
        "    self.conv1 = keras.layers.Conv2D(filters=32, kernel_size=[3, 3], padding='SAME', activation='relu')\n",
        "    self.pool1 = keras.layers.MaxPool2D(padding='SAME')\n",
        "    self.conv2 = keras.layers.Conv2D(filters=64, kernel_size=[3, 3], padding='SAME', activation='relu')\n",
        "    self.pool2 = keras.layers.MaxPool2D(padding='SAME')\n",
        "    self.conv3 = keras.layers.Conv2D(filters=128, kernel_size=[3, 3], padding='SAME', activation='relu')\n",
        "    self.pool3 = keras.layers.MaxPool2D(padding='SAME')\n",
        "    self.pool3_flat = keras.layers.Flatten()\n",
        "    self.dense4 = keras.layers.Dense(units=256, activation='relu')\n",
        "    self.drop4 = keras.layers.Dropout(rate=0.4)\n",
        "    self.dense5 = keras.layers.Dense(units=10, activation='softmax')\n",
        "  \n",
        "  def call(self, x, training=False):  #model을 만들 때는 training은 반드시 넣어줘야 한다. training과 test일 때 달라야 한다. \n",
        "    x = self.conv1(x)\n",
        "    x = self.pool1(x)\n",
        "    x = self.conv2(x)\n",
        "    x = self.pool2(x)\n",
        "    x = self.conv3(x)\n",
        "    x = self.pool3(x)\n",
        "    x = self.pool3_flat(x)\n",
        "    x = self.dense4(x)\n",
        "    x = self.drop4(x)\n",
        "    return self.dense5(x)  "
      ],
      "execution_count": null,
      "outputs": []
    },
    {
      "cell_type": "code",
      "metadata": {
        "id": "EwNPEbjZZ1zc"
      },
      "source": [
        "model = MyModel()"
      ],
      "execution_count": null,
      "outputs": []
    },
    {
      "cell_type": "code",
      "metadata": {
        "id": "Mgilg_HdZ44o"
      },
      "source": [
        "## model compile\n",
        "model.compile(optimizer=keras.optimizers.Adam(learning_rate),\n",
        "                 loss='categorical_crossentropy',\n",
        "                 metrics=['accuracy'])"
      ],
      "execution_count": null,
      "outputs": []
    },
    {
      "cell_type": "code",
      "metadata": {
        "id": "wlkLvEInZ6ll"
      },
      "source": [
        "## 학습 전에 결과 확인\n",
        "model.evaluate(test_dataset)"
      ],
      "execution_count": null,
      "outputs": []
    },
    {
      "cell_type": "code",
      "metadata": {
        "id": "r9QbM-_wZ8ns"
      },
      "source": [
        "## Training\n",
        "history = model.fit(train_dataset, epochs=N_EPOCHS, steps_per_epoch=steps_per_epoch, \n",
        "                    validation_data=test_dataset, validation_steps=validation_steps)"
      ],
      "execution_count": null,
      "outputs": []
    },
    {
      "cell_type": "code",
      "metadata": {
        "id": "W8QklBEFZ_AQ"
      },
      "source": [
        "## saved_model format\n",
        "saved_model_path = os.path.join(cur_dir, save_dir_name, 'mnist_cnn_sub_pb')\n",
        "model.save(saved_model_path)\n",
        "!ls -l saved_models/mnist_cnn_func_pb"
      ],
      "execution_count": null,
      "outputs": []
    },
    {
      "cell_type": "code",
      "metadata": {
        "id": "mf2SR1RuaA7s"
      },
      "source": [
        "new_model7 = keras.models.load_model(saved_model_path)\n",
        "new_model7.evaluate(test_dataset)"
      ],
      "execution_count": null,
      "outputs": []
    }
  ]
}